{
 "cells": [
  {
   "cell_type": "code",
   "execution_count": 1,
   "id": "728e18a2",
   "metadata": {},
   "outputs": [],
   "source": [
    "import pandas as pd\n",
    "import xmltodict\n",
    "import os"
   ]
  },
  {
   "cell_type": "code",
   "execution_count": 82,
   "id": "828adbdd",
   "metadata": {},
   "outputs": [],
   "source": [
    "def tratar_xml(caminho_arquivo_xml):\n",
    "\n",
    "    def abrir_arquivo(arquivo):\n",
    "        with open(arquivo, 'rb') as file:\n",
    "            return xmltodict.parse(file)\n",
    "\n",
    "    def coletar_codigo_jbs(df):\n",
    "        list = []\n",
    "        for i,info in enumerate(df['infAdProd']):\n",
    "            list.append(info.split('Cod. Fabricante: ',)[1].split(' ')[0])\n",
    "        return list\n",
    "    \n",
    "    data = abrir_arquivo(caminho_arquivo_xml)\n",
    "    \n",
    "    det = data['nfeProc']['NFe']['infNFe']['det']\n",
    "    serie = data['nfeProc']['NFe']['infNFe']['ide']['serie']\n",
    "    nnf = data['nfeProc']['NFe']['infNFe']['ide']['nNF']\n",
    "    nfref = data['nfeProc']['NFe']['infNFe']['ide']['NFref']\n",
    "    emit_cnpj = data['nfeProc']['NFe']['infNFe']['emit']['CNPJ']\n",
    "    emit_nome = data['nfeProc']['NFe']['infNFe']['emit']['xNome']\n",
    "    dest_cnpj =  data['nfeProc']['NFe']['infNFe']['dest']['CNPJ']\n",
    "    dest_nome = data['nfeProc']['NFe']['infNFe']['dest']['xNome']\n",
    "    infocompl = data['nfeProc']['NFe']['infNFe']['infAdic']['infCpl']\n",
    "\n",
    "    df = pd.json_normalize(det, sep='.')\n",
    "    novas_colunas = ['Série', 'NF', 'Emitente CNPJ', 'Emitente Nome', 'Destinatátio CNPJ', 'Destinatário Nome', 'Informações Complementares']\n",
    "    dados_novas_colunas= [serie, nnf, emit_cnpj, emit_nome, dest_cnpj, dest_nome, infocompl]\n",
    "\n",
    "    for i,coluna in enumerate(novas_colunas):\n",
    "        df[coluna] = dados_novas_colunas[i]\n",
    "\n",
    "    colunas = novas_colunas + [col for col in df.columns if col not in novas_colunas]\n",
    "    df = df[colunas]\n",
    "    df.dropna(axis='columns', how='all')\n",
    "\n",
    "    df['Código JBS'] = coletar_codigo_jbs(df)    \n",
    "\n",
    "    df = df[['Série', 'NF', 'Emitente Nome', 'Emitente CNPJ',\n",
    "       'Destinatário Nome', 'Destinatátio CNPJ', 'Informações Complementares','Código JBS', 'prod.xProd','prod.uCom', 'prod.qCom', 'prod.vUnCom', 'prod.vProd']]\n",
    "\n",
    "    return df\n",
    "\n",
    "def concatenar_df(caminho):\n",
    "    arquivos = os.listdir(caminho)\n",
    "\n",
    "    todos_df = []\n",
    "\n",
    "    for i in arquivos:\n",
    "        df = tratar_xml(f'{caminho}{i}')\n",
    "        todos_df.append(df)\n",
    "\n",
    "    list_str = ['Emitente Nome', 'Emitente CNPJ', 'Destinatário Nome', 'Destinatátio CNPJ', 'Informações Complementares', 'prod.xProd', 'prod.uCom']\n",
    "    list_int = ['Série', 'NF', 'Código JBS', ]\n",
    "    list_float = ['prod.qCom', 'prod.vUnCom', 'prod.vProd']\n",
    "\n",
    "    df_tratado = pd.concat(todos_df, ignore_index=True)\n",
    "\n",
    "    for coluna in list_str:\n",
    "        df_tratado[coluna] = df_tratado[coluna].astype('str')\n",
    "    for coluna in list_float:\n",
    "        df_tratado[coluna] = df_tratado[coluna].astype('float64')\n",
    "    for coluna in list_int:\n",
    "        df_tratado[coluna] = df_tratado[coluna].astype('int64')\n",
    "    \n",
    "    return df_tratado\n",
    "    "
   ]
  },
  {
   "cell_type": "code",
   "execution_count": 83,
   "id": "9efda811",
   "metadata": {},
   "outputs": [],
   "source": [
    "caminho = './data/'\n",
    "df = concatenar_df(caminho)"
   ]
  },
  {
   "cell_type": "code",
   "execution_count": 86,
   "id": "39039d0e",
   "metadata": {},
   "outputs": [],
   "source": [
    "df.to_excel('dados.xlsx', index=False)"
   ]
  }
 ],
 "metadata": {
  "kernelspec": {
   "display_name": "leitor_xml",
   "language": "python",
   "name": "python3"
  },
  "language_info": {
   "codemirror_mode": {
    "name": "ipython",
    "version": 3
   },
   "file_extension": ".py",
   "mimetype": "text/x-python",
   "name": "python",
   "nbconvert_exporter": "python",
   "pygments_lexer": "ipython3",
   "version": "3.13.2"
  }
 },
 "nbformat": 4,
 "nbformat_minor": 5
}
